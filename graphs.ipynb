{
 "cells": [
  {
   "cell_type": "code",
   "execution_count": 2,
   "metadata": {},
   "outputs": [],
   "source": [
    "import numpy as np\n",
    "import pandas as pd\n",
    "import seaborn as sns\n",
    "import matplotlib as plt"
   ]
  },
  {
   "cell_type": "code",
   "execution_count": 9,
   "metadata": {},
   "outputs": [
    {
     "name": "stdout",
     "output_type": "stream",
     "text": [
      "                            ('BROADCAST', 2054)  ('UNICAST', 2054)  \\\n",
      "2020-09-28 19:25:54.076143               0.0432             0.0181   \n",
      "\n",
      "                            ('UNICAST', 34525)  ('BROADCAST', 34999)  \\\n",
      "2020-09-28 19:25:54.076143                0.01                0.4535   \n",
      "\n",
      "                            ('BROADCAST', 2048)  ('UNICAST', 2048)  \n",
      "2020-09-28 19:25:54.076143               0.6502             0.0021  \n"
     ]
    },
    {
     "data": {
      "image/png": "[encoded data removed]",
      "text/plain": [
       "<Figure size 432x288 with 1 Axes>"
      ]
     },
     "metadata": {},
     "output_type": "display_data"
    }
   ],
   "source": [
    "def porcentajeDeProtocolos(path, x_axis, y_axis):\n",
    "    df = pd.read_csv(path)\n",
    "    df.drop(index = [0, 1] , inplace=True)\n",
    "    sns.set(style=\"whitegrid\")\n",
    "    chart = sns.barplot(x=x_axis,y=y_axis, data=df, palette='Spectral')\n",
    "    chart.set_xticklabels(chart.get_xticklabels(), rotation=90)\n",
    "    \n",
    "def InformacionPorSimbolo(path):\n",
    "    df = pd.read_csv(path, index_col=0, header=0)\n",
    "    \n",
    "    df = df.tail(1).div(10000)   \n",
    "    print(df)\n",
    "    entropy = df\n",
    "    entropy = np.sum(entropy*-1*np.log2(entropy), axis=1).iloc[-1]\n",
    "    \n",
    "    df = -1*np.log2(df)\n",
    "    \n",
    "    df = df.stack().reset_index(-1).iloc[:, ::-1]\n",
    "    df.columns = ['informacion', 'simbolo']\n",
    "    sns.set(style=\"whitegrid\")\n",
    "    df = df.rename(columns={0: \"informacion\", \"simbolos\": \"simbolo\"})\n",
    "    chart = sns.barplot(x=\"simbolo\",y=\"informacion\", data=df, palette='Spectral')\n",
    "    chart.axhline(entropy)\n",
    "    chart.set_xticklabels(chart.get_xticklabels(), rotation=90)\n",
    "    \n",
    "InformacionPorSimbolo('./statistics/capturas.csv')"
   ]
  },
  {
   "cell_type": "code",
   "execution_count": null,
   "metadata": {},
   "outputs": [],
   "source": []
  }
 ],
 "metadata": {
  "kernelspec": {
   "display_name": "Python 3",
   "language": "python",
   "name": "python3"
  },
  "language_info": {
   "codemirror_mode": {
    "name": "ipython",
    "version": 3
   },
   "file_extension": ".py",
   "mimetype": "text/x-python",
   "name": "python",
   "nbconvert_exporter": "python",
   "pygments_lexer": "ipython3",
   "version": "3.6.9"
  }
 },
 "nbformat": 4,
 "nbformat_minor": 4
}
