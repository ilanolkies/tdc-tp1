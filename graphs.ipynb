{
 "cells": [
  {
   "cell_type": "code",
   "execution_count": 2,
   "metadata": {},
   "outputs": [],
   "source": [
    "import numpy as np\n",
    "import pandas as pd\n",
    "import seaborn as sns\n",
    "import matplotlib as plt"
   ]
  },
  {
   "cell_type": "code",
   "execution_count": 22,
   "metadata": {},
   "outputs": [],
   "source": [
    "def porcentajeDeProtocolos(path, x_axis, y_axis):\n",
    "    df = pd.read_csv(path)\n",
    "    df.drop(index = [0, 1] , inplace=True)\n",
    "    sns.set(style=\"whitegrid\")\n",
    "    chart = sns.barplot(x=x_axis,y=y_axis, data=df, palette='Spectral', fmt='d')\n",
    "    chart.set_xticklabels(chart.get_xticklabels(), rotation=90)\n",
    "    \n",
    "def InformacionPorSimbolo(path):\n",
    "    df = pd.read_csv(path)\n",
    "    df = df.tail(1) \n",
    "    df = df = df[[\"('BROADCAST', 2054)\", \"('UNICAST', 2054)\", \"('UNICAST', 34525)\", \"('BROADCAST', 34999)\", \"('BROADCAST', 2048)\", \"('UNICAST', 2048)\"]].div(10000)\n",
    "    df = df.stack().reset_index(-1).iloc[:, ::-1]\n",
    "    df.columns = ['informacion', 'simbolo']\n",
    "    print(df)\n",
    "    sns.set(style=\"whitegrid\")\n",
    "    df = df.rename(columns={0: \"informacion\", \"simbolos\": \"simbolo\"})\n",
    "    chart = sns.barplot(x=\"simbolo\",y=\"informacion\", data=df, palette='Spectral')\n",
    "    chart.set(yscale=\"log\")\n",
    "    chart.set_xticklabels(chart.get_xticklabels(), rotation=90)\n"
   ]
  },
  {
   "cell_type": "code",
   "execution_count": null,
   "metadata": {},
   "outputs": [],
   "source": []
  },
  {
   "cell_type": "code",
   "execution_count": 23,
   "metadata": {},
   "outputs": [
    {
     "name": "stdout",
     "output_type": "stream",
     "text": [
      "       informacion               simbolo\n",
      "19999       0.0432   ('BROADCAST', 2054)\n",
      "19999       0.0181     ('UNICAST', 2054)\n",
      "19999       0.0100    ('UNICAST', 34525)\n",
      "19999       0.4535  ('BROADCAST', 34999)\n",
      "19999       0.6502   ('BROADCAST', 2048)\n",
      "19999       0.0021     ('UNICAST', 2048)\n"
     ]
    },
    {
     "data": {
      "image/png": "[encoded data removed]",
      "text/plain": [
       "<Figure size 432x288 with 1 Axes>"
      ]
     },
     "metadata": {},
     "output_type": "display_data"
    }
   ],
   "source": [
    "\n",
    "InformacionPorSimbolo('/home/mariano/PycharmProjects/tallerTdC/tp1/tp1/tdc-tp1/capturas/capturas.csv')\n"
   ]
  },
  {
   "cell_type": "code",
   "execution_count": null,
   "metadata": {},
   "outputs": [],
   "source": []
  }
 ],
 "metadata": {
  "kernelspec": {
   "display_name": "Python 3",
   "language": "python",
   "name": "python3"
  },
  "language_info": {
   "codemirror_mode": {
    "name": "ipython",
    "version": 3
   },
   "file_extension": ".py",
   "mimetype": "text/x-python",
   "name": "python",
   "nbconvert_exporter": "python",
   "pygments_lexer": "ipython3",
   "version": "3.6.9"
  }
 },
 "nbformat": 4,
 "nbformat_minor": 4
}
